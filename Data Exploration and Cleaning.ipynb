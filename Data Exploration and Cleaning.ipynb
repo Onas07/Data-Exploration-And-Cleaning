{
 "cells": [
  {
   "cell_type": "markdown",
   "id": "fbf37797-b7ea-4e33-8057-dd08ee1db646",
   "metadata": {},
   "source": [
    "# Problem Statement \n",
    "#### The online retail business is looking to\n",
    "#### . Optomize Sales\n",
    "#### . Cut down costs"
   ]
  },
  {
   "cell_type": "markdown",
   "id": "ce5960f7-3d1c-4d38-b0bf-176226054ca1",
   "metadata": {},
   "source": [
    "# Approach - Problem Statement \n",
    "#### To solve this problem we need\n",
    "#### . Dataset containing sales information.\n",
    "#### . Try to understand\n",
    "#### . Prepare for analysis\n",
    "#### . Try to answer a couple of questions like :Sales Trend,How much does it costs to run the business,how much are we making?"
   ]
  },
  {
   "cell_type": "code",
   "execution_count": 1,
   "id": "cf90da21-d3c5-4a71-9e37-739ddc1622b8",
   "metadata": {},
   "outputs": [],
   "source": [
    "import numpy as np\n",
    "import pandas as pd\n",
    "import warnings\n",
    "warnings.filterwarnings('ignore')"
   ]
  },
  {
   "cell_type": "code",
   "execution_count": 3,
   "id": "33ab9e0e-7388-44bc-ad7d-f2881b99f57f",
   "metadata": {},
   "outputs": [],
   "source": [
    "data = pd.read_csv('Online Retail data.csv', encoding = 'ISO-8859-1')"
   ]
  },
  {
   "cell_type": "code",
   "execution_count": 5,
   "id": "0e4f69aa-6f3e-4fae-9db7-b534e5603342",
   "metadata": {},
   "outputs": [
    {
     "data": {
      "text/html": [
       "<div>\n",
       "<style scoped>\n",
       "    .dataframe tbody tr th:only-of-type {\n",
       "        vertical-align: middle;\n",
       "    }\n",
       "\n",
       "    .dataframe tbody tr th {\n",
       "        vertical-align: top;\n",
       "    }\n",
       "\n",
       "    .dataframe thead th {\n",
       "        text-align: right;\n",
       "    }\n",
       "</style>\n",
       "<table border=\"1\" class=\"dataframe\">\n",
       "  <thead>\n",
       "    <tr style=\"text-align: right;\">\n",
       "      <th></th>\n",
       "      <th>Invoice</th>\n",
       "      <th>StockCode</th>\n",
       "      <th>Description</th>\n",
       "      <th>Quantity</th>\n",
       "      <th>InvoiceDate</th>\n",
       "      <th>Price</th>\n",
       "      <th>Customer ID</th>\n",
       "      <th>Country</th>\n",
       "    </tr>\n",
       "  </thead>\n",
       "  <tbody>\n",
       "    <tr>\n",
       "      <th>0</th>\n",
       "      <td>489434</td>\n",
       "      <td>85048</td>\n",
       "      <td>15CM CHRISTMAS GLASS BALL 20 LIGHTS</td>\n",
       "      <td>12</td>\n",
       "      <td>12/01/2009 07:45</td>\n",
       "      <td>$6.95</td>\n",
       "      <td>13085.0</td>\n",
       "      <td>UK</td>\n",
       "    </tr>\n",
       "    <tr>\n",
       "      <th>1</th>\n",
       "      <td>489434</td>\n",
       "      <td>79323P</td>\n",
       "      <td>PINK CHERRY LIGHTS</td>\n",
       "      <td>12</td>\n",
       "      <td>12/01/2009 07:45</td>\n",
       "      <td>$6.75</td>\n",
       "      <td>13085.0</td>\n",
       "      <td>UK</td>\n",
       "    </tr>\n",
       "    <tr>\n",
       "      <th>2</th>\n",
       "      <td>489434</td>\n",
       "      <td>79323W</td>\n",
       "      <td>WHITE CHERRY LIGHTS</td>\n",
       "      <td>12</td>\n",
       "      <td>12/01/2009 07:45</td>\n",
       "      <td>6.75</td>\n",
       "      <td>13085.0</td>\n",
       "      <td>UK</td>\n",
       "    </tr>\n",
       "    <tr>\n",
       "      <th>3</th>\n",
       "      <td>489434</td>\n",
       "      <td>22041</td>\n",
       "      <td>RECORD FRAME 7\" SINGLE SIZE</td>\n",
       "      <td>48</td>\n",
       "      <td>12/01/2009 07:45</td>\n",
       "      <td>2.1</td>\n",
       "      <td>13085.0</td>\n",
       "      <td>UK</td>\n",
       "    </tr>\n",
       "    <tr>\n",
       "      <th>4</th>\n",
       "      <td>489434</td>\n",
       "      <td>21232</td>\n",
       "      <td>STRAWBERRY CERAMIC TRINKET BOX</td>\n",
       "      <td>24</td>\n",
       "      <td>12/01/2009 07:45</td>\n",
       "      <td>1.25</td>\n",
       "      <td>13085.0</td>\n",
       "      <td>UK</td>\n",
       "    </tr>\n",
       "  </tbody>\n",
       "</table>\n",
       "</div>"
      ],
      "text/plain": [
       "  Invoice StockCode                          Description  Quantity  \\\n",
       "0  489434     85048  15CM CHRISTMAS GLASS BALL 20 LIGHTS        12   \n",
       "1  489434    79323P                   PINK CHERRY LIGHTS        12   \n",
       "2  489434    79323W                  WHITE CHERRY LIGHTS        12   \n",
       "3  489434     22041         RECORD FRAME 7\" SINGLE SIZE         48   \n",
       "4  489434     21232       STRAWBERRY CERAMIC TRINKET BOX        24   \n",
       "\n",
       "        InvoiceDate  Price  Customer ID Country  \n",
       "0  12/01/2009 07:45  $6.95      13085.0      UK  \n",
       "1  12/01/2009 07:45  $6.75      13085.0      UK  \n",
       "2  12/01/2009 07:45   6.75      13085.0      UK  \n",
       "3  12/01/2009 07:45    2.1      13085.0      UK  \n",
       "4  12/01/2009 07:45   1.25      13085.0      UK  "
      ]
     },
     "execution_count": 5,
     "metadata": {},
     "output_type": "execute_result"
    }
   ],
   "source": [
    "data.head()"
   ]
  },
  {
   "cell_type": "markdown",
   "id": "fc2aad3a-d48f-4312-acc5-7262806162ce",
   "metadata": {},
   "source": [
    "# Data  Exploration"
   ]
  },
  {
   "cell_type": "markdown",
   "id": "c6e36e4e-0bd5-4c2a-a280-524d9b40daf6",
   "metadata": {},
   "source": [
    "data.shape"
   ]
  },
  {
   "cell_type": "code",
   "execution_count": 9,
   "id": "17ada617-d57a-46e0-94de-7e6ec825c701",
   "metadata": {},
   "outputs": [
    {
     "data": {
      "text/plain": [
       "Index(['Invoice', 'StockCode', 'Description', 'Quantity', 'InvoiceDate',\n",
       "       'Price', 'Customer ID', 'Country'],\n",
       "      dtype='object')"
      ]
     },
     "execution_count": 9,
     "metadata": {},
     "output_type": "execute_result"
    }
   ],
   "source": [
    "data.columns"
   ]
  },
  {
   "cell_type": "code",
   "execution_count": 11,
   "id": "818dfa93-a3f6-4b65-bed1-9f4bdf52cbb2",
   "metadata": {},
   "outputs": [
    {
     "name": "stdout",
     "output_type": "stream",
     "text": [
      "<class 'pandas.core.frame.DataFrame'>\n",
      "RangeIndex: 525461 entries, 0 to 525460\n",
      "Data columns (total 8 columns):\n",
      " #   Column       Non-Null Count   Dtype  \n",
      "---  ------       --------------   -----  \n",
      " 0   Invoice      525461 non-null  object \n",
      " 1   StockCode    525461 non-null  object \n",
      " 2   Description  522533 non-null  object \n",
      " 3   Quantity     525461 non-null  int64  \n",
      " 4   InvoiceDate  525461 non-null  object \n",
      " 5   Price        525461 non-null  object \n",
      " 6   Customer ID  417534 non-null  float64\n",
      " 7   Country      525461 non-null  object \n",
      "dtypes: float64(1), int64(1), object(6)\n",
      "memory usage: 32.1+ MB\n"
     ]
    }
   ],
   "source": [
    "data.info()"
   ]
  },
  {
   "cell_type": "markdown",
   "id": "65653bbc-aa98-41a7-a88b-fe21b26878dc",
   "metadata": {},
   "source": [
    "# Issues with data"
   ]
  },
  {
   "cell_type": "markdown",
   "id": "70761b36-3337-4a79-b2f9-5433c9765e83",
   "metadata": {},
   "source": [
    "##### . Customer ID has null values\n",
    "##### . Data type issues,cust ID,invoice, data price"
   ]
  },
  {
   "cell_type": "markdown",
   "id": "497e2d87-1657-4a34-bbb4-ee08cc09191e",
   "metadata": {},
   "source": [
    " # Data Dictionary\n",
    "#### Here is a data dictionary for your data set\n",
    "#### Invoice -------  string --------  Unique identifier for each transaction(invoice number)\n",
    "#### StockCode -----  String -------   Unique code identifying each product in stock\n",
    "#### Description -    string -------   Description of the product\n",
    "#### Quantity  ----   integer ------   Number of items purchased per product in the transaction\n",
    "#### InvoiceDate -    Date Time ----   Date and Time when the transaction was recorded\n",
    "#### Price---------   Float --------   Unit price of the product(per item) in the specified currency\n",
    "#### Customer ID-     integer-------   Unique identifier for each customer\n",
    "#### Country -----    string _------   Country where the customer is located or where yhe transaction occurred\n",
    "####  This dictionary provides  an overview of each column's data type and its purpose within the dataset."
   ]
  },
  {
   "cell_type": "markdown",
   "id": "153f3354-a0e2-4eed-acec-f0dfbad721ca",
   "metadata": {},
   "source": [
    "# Data Cleaning"
   ]
  },
  {
   "cell_type": "code",
   "execution_count": 13,
   "id": "1bc5ebeb-7256-44f9-860b-c0ab81a882eb",
   "metadata": {},
   "outputs": [
    {
     "data": {
      "text/plain": [
       "Invoice             0\n",
       "StockCode           0\n",
       "Description      2928\n",
       "Quantity            0\n",
       "InvoiceDate         0\n",
       "Price               0\n",
       "Customer ID    107927\n",
       "Country             0\n",
       "dtype: int64"
      ]
     },
     "execution_count": 13,
     "metadata": {},
     "output_type": "execute_result"
    }
   ],
   "source": [
    "data.isnull().sum()"
   ]
  },
  {
   "cell_type": "code",
   "execution_count": 17,
   "id": "bdb27e9b-bf18-4f3e-a4b9-7330f4c73298",
   "metadata": {},
   "outputs": [
    {
     "data": {
      "text/plain": [
       "Invoice         0.000000\n",
       "StockCode       0.000000\n",
       "Description     0.557225\n",
       "Quantity        0.000000\n",
       "InvoiceDate     0.000000\n",
       "Price           0.000000\n",
       "Customer ID    20.539488\n",
       "Country         0.000000\n",
       "dtype: float64"
      ]
     },
     "execution_count": 17,
     "metadata": {},
     "output_type": "execute_result"
    }
   ],
   "source": [
    "data.isnull().sum() /len(data)* 100"
   ]
  },
  {
   "cell_type": "markdown",
   "id": "b7e866b4-bb9f-4094-ba6a-ec8aaeb0f748",
   "metadata": {},
   "source": [
    ". Drop the customer ID column because it has a high percentage of null values"
   ]
  },
  {
   "cell_type": "code",
   "execution_count": 19,
   "id": "9440dc11-1558-4e24-b33f-afc5b3630e0a",
   "metadata": {},
   "outputs": [],
   "source": [
    "data.drop('Customer ID', axis=1 , inplace=True)"
   ]
  },
  {
   "cell_type": "code",
   "execution_count": 21,
   "id": "d0efe8c8-76c2-404f-87a9-a0f0d71ec9ba",
   "metadata": {},
   "outputs": [
    {
     "name": "stdout",
     "output_type": "stream",
     "text": [
      "<class 'pandas.core.frame.DataFrame'>\n",
      "RangeIndex: 525461 entries, 0 to 525460\n",
      "Data columns (total 7 columns):\n",
      " #   Column       Non-Null Count   Dtype \n",
      "---  ------       --------------   ----- \n",
      " 0   Invoice      525461 non-null  object\n",
      " 1   StockCode    525461 non-null  object\n",
      " 2   Description  522533 non-null  object\n",
      " 3   Quantity     525461 non-null  int64 \n",
      " 4   InvoiceDate  525461 non-null  object\n",
      " 5   Price        525461 non-null  object\n",
      " 6   Country      525461 non-null  object\n",
      "dtypes: int64(1), object(6)\n",
      "memory usage: 28.1+ MB\n"
     ]
    }
   ],
   "source": [
    "data.info()"
   ]
  },
  {
   "cell_type": "code",
   "execution_count": 23,
   "id": "4e809baa-7383-4c73-89be-431ad6f2a567",
   "metadata": {},
   "outputs": [
    {
     "data": {
      "text/plain": [
       "Description\n",
       "WHITE HANGING HEART T-LIGHT HOLDER     3549\n",
       "REGENCY CAKESTAND 3 TIER               2212\n",
       "STRAWBERRY CERAMIC TRINKET BOX         1843\n",
       "PACK OF 72 RETRO SPOT CAKE CASES       1466\n",
       "ASSORTED COLOUR BIRD ORNAMENT          1457\n",
       "                                       ... \n",
       "stock credited from royal yacht inc       1\n",
       "VINTAGE METAL CAKE STAND CREAM            1\n",
       "BLUE BAROQUE FLOCK CANDLE HOLDER          1\n",
       "S/4 HEART CRYSTAL FRIDGE MAGNETS          1\n",
       "dotcom email                              1\n",
       "Name: count, Length: 4681, dtype: int64"
      ]
     },
     "execution_count": 23,
     "metadata": {},
     "output_type": "execute_result"
    }
   ],
   "source": [
    "data['Description']. value_counts()"
   ]
  },
  {
   "cell_type": "code",
   "execution_count": 27,
   "id": "19c27375-f57e-4af9-8f7d-63efa5342c7c",
   "metadata": {},
   "outputs": [
    {
     "data": {
      "text/html": [
       "<div>\n",
       "<style scoped>\n",
       "    .dataframe tbody tr th:only-of-type {\n",
       "        vertical-align: middle;\n",
       "    }\n",
       "\n",
       "    .dataframe tbody tr th {\n",
       "        vertical-align: top;\n",
       "    }\n",
       "\n",
       "    .dataframe thead th {\n",
       "        text-align: right;\n",
       "    }\n",
       "</style>\n",
       "<table border=\"1\" class=\"dataframe\">\n",
       "  <thead>\n",
       "    <tr style=\"text-align: right;\">\n",
       "      <th></th>\n",
       "      <th>Invoice</th>\n",
       "      <th>StockCode</th>\n",
       "      <th>Description</th>\n",
       "      <th>Quantity</th>\n",
       "      <th>InvoiceDate</th>\n",
       "      <th>Price</th>\n",
       "      <th>Country</th>\n",
       "    </tr>\n",
       "  </thead>\n",
       "  <tbody>\n",
       "    <tr>\n",
       "      <th>470</th>\n",
       "      <td>489521</td>\n",
       "      <td>21646</td>\n",
       "      <td>NaN</td>\n",
       "      <td>-50</td>\n",
       "      <td>12/01/2009 11:44</td>\n",
       "      <td>0</td>\n",
       "      <td>United Kingdom</td>\n",
       "    </tr>\n",
       "    <tr>\n",
       "      <th>3114</th>\n",
       "      <td>489655</td>\n",
       "      <td>20683</td>\n",
       "      <td>NaN</td>\n",
       "      <td>-44</td>\n",
       "      <td>12/01/2009 17:26</td>\n",
       "      <td>0</td>\n",
       "      <td>United Kingdom</td>\n",
       "    </tr>\n",
       "    <tr>\n",
       "      <th>3161</th>\n",
       "      <td>489659</td>\n",
       "      <td>21350</td>\n",
       "      <td>NaN</td>\n",
       "      <td>230</td>\n",
       "      <td>12/01/2009 17:39</td>\n",
       "      <td>0</td>\n",
       "      <td>United Kingdom</td>\n",
       "    </tr>\n",
       "    <tr>\n",
       "      <th>3731</th>\n",
       "      <td>489781</td>\n",
       "      <td>84292</td>\n",
       "      <td>NaN</td>\n",
       "      <td>17</td>\n",
       "      <td>12/02/2009 11:45</td>\n",
       "      <td>0</td>\n",
       "      <td>United Kingdom</td>\n",
       "    </tr>\n",
       "    <tr>\n",
       "      <th>4296</th>\n",
       "      <td>489806</td>\n",
       "      <td>18010</td>\n",
       "      <td>NaN</td>\n",
       "      <td>-770</td>\n",
       "      <td>12/02/2009 12:42</td>\n",
       "      <td>0</td>\n",
       "      <td>United Kingdom</td>\n",
       "    </tr>\n",
       "    <tr>\n",
       "      <th>4566</th>\n",
       "      <td>489821</td>\n",
       "      <td>85049G</td>\n",
       "      <td>NaN</td>\n",
       "      <td>-240</td>\n",
       "      <td>12/02/2009 13:25</td>\n",
       "      <td>0</td>\n",
       "      <td>United Kingdom</td>\n",
       "    </tr>\n",
       "    <tr>\n",
       "      <th>6378</th>\n",
       "      <td>489882</td>\n",
       "      <td>35751C</td>\n",
       "      <td>NaN</td>\n",
       "      <td>12</td>\n",
       "      <td>12/02/2009 16:22</td>\n",
       "      <td>0</td>\n",
       "      <td>United Kingdom</td>\n",
       "    </tr>\n",
       "    <tr>\n",
       "      <th>6555</th>\n",
       "      <td>489898</td>\n",
       "      <td>79323G</td>\n",
       "      <td>NaN</td>\n",
       "      <td>954</td>\n",
       "      <td>12/03/2009 09:40</td>\n",
       "      <td>0</td>\n",
       "      <td>United Kingdom</td>\n",
       "    </tr>\n",
       "    <tr>\n",
       "      <th>6576</th>\n",
       "      <td>489901</td>\n",
       "      <td>21098</td>\n",
       "      <td>NaN</td>\n",
       "      <td>-200</td>\n",
       "      <td>12/03/2009 09:47</td>\n",
       "      <td>0</td>\n",
       "      <td>United Kingdom</td>\n",
       "    </tr>\n",
       "    <tr>\n",
       "      <th>6581</th>\n",
       "      <td>489903</td>\n",
       "      <td>21166</td>\n",
       "      <td>NaN</td>\n",
       "      <td>48</td>\n",
       "      <td>12/03/2009 09:57</td>\n",
       "      <td>0</td>\n",
       "      <td>United Kingdom</td>\n",
       "    </tr>\n",
       "  </tbody>\n",
       "</table>\n",
       "</div>"
      ],
      "text/plain": [
       "     Invoice StockCode Description  Quantity       InvoiceDate Price  \\\n",
       "470   489521     21646         NaN       -50  12/01/2009 11:44     0   \n",
       "3114  489655     20683         NaN       -44  12/01/2009 17:26     0   \n",
       "3161  489659     21350         NaN       230  12/01/2009 17:39     0   \n",
       "3731  489781     84292         NaN        17  12/02/2009 11:45     0   \n",
       "4296  489806     18010         NaN      -770  12/02/2009 12:42     0   \n",
       "4566  489821    85049G         NaN      -240  12/02/2009 13:25     0   \n",
       "6378  489882    35751C         NaN        12  12/02/2009 16:22     0   \n",
       "6555  489898    79323G         NaN       954  12/03/2009 09:40     0   \n",
       "6576  489901     21098         NaN      -200  12/03/2009 09:47     0   \n",
       "6581  489903     21166         NaN        48  12/03/2009 09:57     0   \n",
       "\n",
       "             Country  \n",
       "470   United Kingdom  \n",
       "3114  United Kingdom  \n",
       "3161  United Kingdom  \n",
       "3731  United Kingdom  \n",
       "4296  United Kingdom  \n",
       "4566  United Kingdom  \n",
       "6378  United Kingdom  \n",
       "6555  United Kingdom  \n",
       "6576  United Kingdom  \n",
       "6581  United Kingdom  "
      ]
     },
     "execution_count": 27,
     "metadata": {},
     "output_type": "execute_result"
    }
   ],
   "source": [
    "data[data['Description'].isnull()].head(10)"
   ]
  },
  {
   "cell_type": "code",
   "execution_count": 29,
   "id": "c54ac4a7-52ee-47fb-8f88-47343c77fbc8",
   "metadata": {},
   "outputs": [],
   "source": [
    "data.dropna(axis=0, inplace=True)"
   ]
  },
  {
   "cell_type": "code",
   "execution_count": 31,
   "id": "51d85a7f-55b8-45fb-bd31-5e5e892da8f1",
   "metadata": {},
   "outputs": [
    {
     "data": {
      "text/plain": [
       "Invoice        0\n",
       "StockCode      0\n",
       "Description    0\n",
       "Quantity       0\n",
       "InvoiceDate    0\n",
       "Price          0\n",
       "Country        0\n",
       "dtype: int64"
      ]
     },
     "execution_count": 31,
     "metadata": {},
     "output_type": "execute_result"
    }
   ],
   "source": [
    "data.isnull().sum()"
   ]
  },
  {
   "cell_type": "code",
   "execution_count": 35,
   "id": "2b8099b2-0990-4f06-ab60-b5df1347a3a6",
   "metadata": {},
   "outputs": [
    {
     "data": {
      "text/plain": [
       "1.3137926217100164"
      ]
     },
     "execution_count": 35,
     "metadata": {},
     "output_type": "execute_result"
    }
   ],
   "source": [
    "data.duplicated().sum() / len(data) * 100"
   ]
  },
  {
   "cell_type": "code",
   "execution_count": 37,
   "id": "0227ca76-cece-4d55-8490-618d69c44cad",
   "metadata": {},
   "outputs": [],
   "source": [
    "data =data.drop_duplicates()"
   ]
  },
  {
   "cell_type": "code",
   "execution_count": 39,
   "id": "8ceec9b9-4bbc-4454-b913-86760217679e",
   "metadata": {},
   "outputs": [
    {
     "data": {
      "text/plain": [
       "0"
      ]
     },
     "execution_count": 39,
     "metadata": {},
     "output_type": "execute_result"
    }
   ],
   "source": [
    "data.duplicated().sum()"
   ]
  },
  {
   "cell_type": "code",
   "execution_count": 41,
   "id": "d09bacbc-a9b0-4f65-91ad-0df3e493b24d",
   "metadata": {},
   "outputs": [
    {
     "name": "stdout",
     "output_type": "stream",
     "text": [
      "<class 'pandas.core.frame.DataFrame'>\n",
      "Index: 515668 entries, 0 to 525460\n",
      "Data columns (total 7 columns):\n",
      " #   Column       Non-Null Count   Dtype \n",
      "---  ------       --------------   ----- \n",
      " 0   Invoice      515668 non-null  object\n",
      " 1   StockCode    515668 non-null  object\n",
      " 2   Description  515668 non-null  object\n",
      " 3   Quantity     515668 non-null  int64 \n",
      " 4   InvoiceDate  515668 non-null  object\n",
      " 5   Price        515668 non-null  object\n",
      " 6   Country      515668 non-null  object\n",
      "dtypes: int64(1), object(6)\n",
      "memory usage: 31.5+ MB\n"
     ]
    }
   ],
   "source": [
    "data.info()"
   ]
  },
  {
   "cell_type": "code",
   "execution_count": 43,
   "id": "93e00b65-19a7-4e88-a145-6332559e6708",
   "metadata": {},
   "outputs": [
    {
     "data": {
      "text/html": [
       "<div>\n",
       "<style scoped>\n",
       "    .dataframe tbody tr th:only-of-type {\n",
       "        vertical-align: middle;\n",
       "    }\n",
       "\n",
       "    .dataframe tbody tr th {\n",
       "        vertical-align: top;\n",
       "    }\n",
       "\n",
       "    .dataframe thead th {\n",
       "        text-align: right;\n",
       "    }\n",
       "</style>\n",
       "<table border=\"1\" class=\"dataframe\">\n",
       "  <thead>\n",
       "    <tr style=\"text-align: right;\">\n",
       "      <th></th>\n",
       "      <th>Invoice</th>\n",
       "      <th>StockCode</th>\n",
       "      <th>Description</th>\n",
       "      <th>Quantity</th>\n",
       "      <th>InvoiceDate</th>\n",
       "      <th>Price</th>\n",
       "      <th>Country</th>\n",
       "    </tr>\n",
       "  </thead>\n",
       "  <tbody>\n",
       "    <tr>\n",
       "      <th>0</th>\n",
       "      <td>489434</td>\n",
       "      <td>85048</td>\n",
       "      <td>15CM CHRISTMAS GLASS BALL 20 LIGHTS</td>\n",
       "      <td>12</td>\n",
       "      <td>12/01/2009 07:45</td>\n",
       "      <td>$6.95</td>\n",
       "      <td>UK</td>\n",
       "    </tr>\n",
       "    <tr>\n",
       "      <th>1</th>\n",
       "      <td>489434</td>\n",
       "      <td>79323P</td>\n",
       "      <td>PINK CHERRY LIGHTS</td>\n",
       "      <td>12</td>\n",
       "      <td>12/01/2009 07:45</td>\n",
       "      <td>$6.75</td>\n",
       "      <td>UK</td>\n",
       "    </tr>\n",
       "    <tr>\n",
       "      <th>2</th>\n",
       "      <td>489434</td>\n",
       "      <td>79323W</td>\n",
       "      <td>WHITE CHERRY LIGHTS</td>\n",
       "      <td>12</td>\n",
       "      <td>12/01/2009 07:45</td>\n",
       "      <td>6.75</td>\n",
       "      <td>UK</td>\n",
       "    </tr>\n",
       "    <tr>\n",
       "      <th>3</th>\n",
       "      <td>489434</td>\n",
       "      <td>22041</td>\n",
       "      <td>RECORD FRAME 7\" SINGLE SIZE</td>\n",
       "      <td>48</td>\n",
       "      <td>12/01/2009 07:45</td>\n",
       "      <td>2.1</td>\n",
       "      <td>UK</td>\n",
       "    </tr>\n",
       "    <tr>\n",
       "      <th>4</th>\n",
       "      <td>489434</td>\n",
       "      <td>21232</td>\n",
       "      <td>STRAWBERRY CERAMIC TRINKET BOX</td>\n",
       "      <td>24</td>\n",
       "      <td>12/01/2009 07:45</td>\n",
       "      <td>1.25</td>\n",
       "      <td>UK</td>\n",
       "    </tr>\n",
       "  </tbody>\n",
       "</table>\n",
       "</div>"
      ],
      "text/plain": [
       "  Invoice StockCode                          Description  Quantity  \\\n",
       "0  489434     85048  15CM CHRISTMAS GLASS BALL 20 LIGHTS        12   \n",
       "1  489434    79323P                   PINK CHERRY LIGHTS        12   \n",
       "2  489434    79323W                  WHITE CHERRY LIGHTS        12   \n",
       "3  489434     22041         RECORD FRAME 7\" SINGLE SIZE         48   \n",
       "4  489434     21232       STRAWBERRY CERAMIC TRINKET BOX        24   \n",
       "\n",
       "        InvoiceDate  Price Country  \n",
       "0  12/01/2009 07:45  $6.95      UK  \n",
       "1  12/01/2009 07:45  $6.75      UK  \n",
       "2  12/01/2009 07:45   6.75      UK  \n",
       "3  12/01/2009 07:45    2.1      UK  \n",
       "4  12/01/2009 07:45   1.25      UK  "
      ]
     },
     "execution_count": 43,
     "metadata": {},
     "output_type": "execute_result"
    }
   ],
   "source": [
    "data.head()"
   ]
  },
  {
   "cell_type": "code",
   "execution_count": 45,
   "id": "9e1f05d4-bab0-44c1-8ff0-02ea6b459eb6",
   "metadata": {},
   "outputs": [],
   "source": [
    "data_copy=data.copy()"
   ]
  },
  {
   "cell_type": "code",
   "execution_count": 49,
   "id": "660c2143-0f32-4432-a16f-3f800813a840",
   "metadata": {},
   "outputs": [],
   "source": [
    "data.loc[0, 'Price'] = data.loc[0, 'Price']. replace('$', '')"
   ]
  },
  {
   "cell_type": "code",
   "execution_count": 51,
   "id": "64d4dca3-7b05-4e48-8b8b-02728743b184",
   "metadata": {},
   "outputs": [],
   "source": [
    "data.loc[1, 'Price']= data.loc[1, 'Price']. replace ('$' , '')"
   ]
  },
  {
   "cell_type": "code",
   "execution_count": 53,
   "id": "21aeced1-6a2c-4920-9f3e-7730d167fb39",
   "metadata": {},
   "outputs": [
    {
     "data": {
      "text/html": [
       "<div>\n",
       "<style scoped>\n",
       "    .dataframe tbody tr th:only-of-type {\n",
       "        vertical-align: middle;\n",
       "    }\n",
       "\n",
       "    .dataframe tbody tr th {\n",
       "        vertical-align: top;\n",
       "    }\n",
       "\n",
       "    .dataframe thead th {\n",
       "        text-align: right;\n",
       "    }\n",
       "</style>\n",
       "<table border=\"1\" class=\"dataframe\">\n",
       "  <thead>\n",
       "    <tr style=\"text-align: right;\">\n",
       "      <th></th>\n",
       "      <th>Invoice</th>\n",
       "      <th>StockCode</th>\n",
       "      <th>Description</th>\n",
       "      <th>Quantity</th>\n",
       "      <th>InvoiceDate</th>\n",
       "      <th>Price</th>\n",
       "      <th>Country</th>\n",
       "    </tr>\n",
       "  </thead>\n",
       "  <tbody>\n",
       "    <tr>\n",
       "      <th>0</th>\n",
       "      <td>489434</td>\n",
       "      <td>85048</td>\n",
       "      <td>15CM CHRISTMAS GLASS BALL 20 LIGHTS</td>\n",
       "      <td>12</td>\n",
       "      <td>12/01/2009 07:45</td>\n",
       "      <td>6.95</td>\n",
       "      <td>UK</td>\n",
       "    </tr>\n",
       "    <tr>\n",
       "      <th>1</th>\n",
       "      <td>489434</td>\n",
       "      <td>79323P</td>\n",
       "      <td>PINK CHERRY LIGHTS</td>\n",
       "      <td>12</td>\n",
       "      <td>12/01/2009 07:45</td>\n",
       "      <td>6.75</td>\n",
       "      <td>UK</td>\n",
       "    </tr>\n",
       "    <tr>\n",
       "      <th>2</th>\n",
       "      <td>489434</td>\n",
       "      <td>79323W</td>\n",
       "      <td>WHITE CHERRY LIGHTS</td>\n",
       "      <td>12</td>\n",
       "      <td>12/01/2009 07:45</td>\n",
       "      <td>6.75</td>\n",
       "      <td>UK</td>\n",
       "    </tr>\n",
       "    <tr>\n",
       "      <th>3</th>\n",
       "      <td>489434</td>\n",
       "      <td>22041</td>\n",
       "      <td>RECORD FRAME 7\" SINGLE SIZE</td>\n",
       "      <td>48</td>\n",
       "      <td>12/01/2009 07:45</td>\n",
       "      <td>2.1</td>\n",
       "      <td>UK</td>\n",
       "    </tr>\n",
       "    <tr>\n",
       "      <th>4</th>\n",
       "      <td>489434</td>\n",
       "      <td>21232</td>\n",
       "      <td>STRAWBERRY CERAMIC TRINKET BOX</td>\n",
       "      <td>24</td>\n",
       "      <td>12/01/2009 07:45</td>\n",
       "      <td>1.25</td>\n",
       "      <td>UK</td>\n",
       "    </tr>\n",
       "  </tbody>\n",
       "</table>\n",
       "</div>"
      ],
      "text/plain": [
       "  Invoice StockCode                          Description  Quantity  \\\n",
       "0  489434     85048  15CM CHRISTMAS GLASS BALL 20 LIGHTS        12   \n",
       "1  489434    79323P                   PINK CHERRY LIGHTS        12   \n",
       "2  489434    79323W                  WHITE CHERRY LIGHTS        12   \n",
       "3  489434     22041         RECORD FRAME 7\" SINGLE SIZE         48   \n",
       "4  489434     21232       STRAWBERRY CERAMIC TRINKET BOX        24   \n",
       "\n",
       "        InvoiceDate Price Country  \n",
       "0  12/01/2009 07:45  6.95      UK  \n",
       "1  12/01/2009 07:45  6.75      UK  \n",
       "2  12/01/2009 07:45  6.75      UK  \n",
       "3  12/01/2009 07:45   2.1      UK  \n",
       "4  12/01/2009 07:45  1.25      UK  "
      ]
     },
     "execution_count": 53,
     "metadata": {},
     "output_type": "execute_result"
    }
   ],
   "source": [
    "data.head()"
   ]
  },
  {
   "cell_type": "code",
   "execution_count": 55,
   "id": "c97bba3c-70ce-4b60-a58c-07871d17a4dd",
   "metadata": {},
   "outputs": [],
   "source": [
    "data['Price'] = data['Price'].astype('float64')"
   ]
  },
  {
   "cell_type": "code",
   "execution_count": 57,
   "id": "c8a48a8d-db1d-4eb2-a5ae-37b03e14e8fe",
   "metadata": {},
   "outputs": [
    {
     "name": "stdout",
     "output_type": "stream",
     "text": [
      "<class 'pandas.core.frame.DataFrame'>\n",
      "Index: 515668 entries, 0 to 525460\n",
      "Data columns (total 7 columns):\n",
      " #   Column       Non-Null Count   Dtype  \n",
      "---  ------       --------------   -----  \n",
      " 0   Invoice      515668 non-null  object \n",
      " 1   StockCode    515668 non-null  object \n",
      " 2   Description  515668 non-null  object \n",
      " 3   Quantity     515668 non-null  int64  \n",
      " 4   InvoiceDate  515668 non-null  object \n",
      " 5   Price        515668 non-null  float64\n",
      " 6   Country      515668 non-null  object \n",
      "dtypes: float64(1), int64(1), object(5)\n",
      "memory usage: 47.6+ MB\n"
     ]
    }
   ],
   "source": [
    "data.info()"
   ]
  },
  {
   "cell_type": "code",
   "execution_count": 61,
   "id": "8e165a7f-898e-4293-a1dd-90238cc36ebf",
   "metadata": {},
   "outputs": [],
   "source": [
    "data['InvoiceDate'] = pd.to_datetime(data['InvoiceDate'])"
   ]
  },
  {
   "cell_type": "code",
   "execution_count": 63,
   "id": "a5fad691-b6cf-42d3-bcb2-be5c058d329f",
   "metadata": {},
   "outputs": [
    {
     "name": "stdout",
     "output_type": "stream",
     "text": [
      "<class 'pandas.core.frame.DataFrame'>\n",
      "Index: 515668 entries, 0 to 525460\n",
      "Data columns (total 7 columns):\n",
      " #   Column       Non-Null Count   Dtype         \n",
      "---  ------       --------------   -----         \n",
      " 0   Invoice      515668 non-null  object        \n",
      " 1   StockCode    515668 non-null  object        \n",
      " 2   Description  515668 non-null  object        \n",
      " 3   Quantity     515668 non-null  int64         \n",
      " 4   InvoiceDate  515668 non-null  datetime64[ns]\n",
      " 5   Price        515668 non-null  float64       \n",
      " 6   Country      515668 non-null  object        \n",
      "dtypes: datetime64[ns](1), float64(1), int64(1), object(4)\n",
      "memory usage: 47.6+ MB\n"
     ]
    }
   ],
   "source": [
    "data.info()"
   ]
  },
  {
   "cell_type": "code",
   "execution_count": 65,
   "id": "70096bcc-c037-4545-a0c9-e2a4db982a22",
   "metadata": {},
   "outputs": [
    {
     "data": {
      "text/html": [
       "<div>\n",
       "<style scoped>\n",
       "    .dataframe tbody tr th:only-of-type {\n",
       "        vertical-align: middle;\n",
       "    }\n",
       "\n",
       "    .dataframe tbody tr th {\n",
       "        vertical-align: top;\n",
       "    }\n",
       "\n",
       "    .dataframe thead th {\n",
       "        text-align: right;\n",
       "    }\n",
       "</style>\n",
       "<table border=\"1\" class=\"dataframe\">\n",
       "  <thead>\n",
       "    <tr style=\"text-align: right;\">\n",
       "      <th></th>\n",
       "      <th>Invoice</th>\n",
       "      <th>StockCode</th>\n",
       "      <th>Description</th>\n",
       "      <th>Quantity</th>\n",
       "      <th>InvoiceDate</th>\n",
       "      <th>Price</th>\n",
       "      <th>Country</th>\n",
       "    </tr>\n",
       "  </thead>\n",
       "  <tbody>\n",
       "    <tr>\n",
       "      <th>0</th>\n",
       "      <td>489434</td>\n",
       "      <td>85048</td>\n",
       "      <td>15CM CHRISTMAS GLASS BALL 20 LIGHTS</td>\n",
       "      <td>12</td>\n",
       "      <td>2009-12-01 07:45:00</td>\n",
       "      <td>6.95</td>\n",
       "      <td>UK</td>\n",
       "    </tr>\n",
       "    <tr>\n",
       "      <th>1</th>\n",
       "      <td>489434</td>\n",
       "      <td>79323P</td>\n",
       "      <td>PINK CHERRY LIGHTS</td>\n",
       "      <td>12</td>\n",
       "      <td>2009-12-01 07:45:00</td>\n",
       "      <td>6.75</td>\n",
       "      <td>UK</td>\n",
       "    </tr>\n",
       "    <tr>\n",
       "      <th>2</th>\n",
       "      <td>489434</td>\n",
       "      <td>79323W</td>\n",
       "      <td>WHITE CHERRY LIGHTS</td>\n",
       "      <td>12</td>\n",
       "      <td>2009-12-01 07:45:00</td>\n",
       "      <td>6.75</td>\n",
       "      <td>UK</td>\n",
       "    </tr>\n",
       "    <tr>\n",
       "      <th>3</th>\n",
       "      <td>489434</td>\n",
       "      <td>22041</td>\n",
       "      <td>RECORD FRAME 7\" SINGLE SIZE</td>\n",
       "      <td>48</td>\n",
       "      <td>2009-12-01 07:45:00</td>\n",
       "      <td>2.10</td>\n",
       "      <td>UK</td>\n",
       "    </tr>\n",
       "    <tr>\n",
       "      <th>4</th>\n",
       "      <td>489434</td>\n",
       "      <td>21232</td>\n",
       "      <td>STRAWBERRY CERAMIC TRINKET BOX</td>\n",
       "      <td>24</td>\n",
       "      <td>2009-12-01 07:45:00</td>\n",
       "      <td>1.25</td>\n",
       "      <td>UK</td>\n",
       "    </tr>\n",
       "  </tbody>\n",
       "</table>\n",
       "</div>"
      ],
      "text/plain": [
       "  Invoice StockCode                          Description  Quantity  \\\n",
       "0  489434     85048  15CM CHRISTMAS GLASS BALL 20 LIGHTS        12   \n",
       "1  489434    79323P                   PINK CHERRY LIGHTS        12   \n",
       "2  489434    79323W                  WHITE CHERRY LIGHTS        12   \n",
       "3  489434     22041         RECORD FRAME 7\" SINGLE SIZE         48   \n",
       "4  489434     21232       STRAWBERRY CERAMIC TRINKET BOX        24   \n",
       "\n",
       "          InvoiceDate  Price Country  \n",
       "0 2009-12-01 07:45:00   6.95      UK  \n",
       "1 2009-12-01 07:45:00   6.75      UK  \n",
       "2 2009-12-01 07:45:00   6.75      UK  \n",
       "3 2009-12-01 07:45:00   2.10      UK  \n",
       "4 2009-12-01 07:45:00   1.25      UK  "
      ]
     },
     "execution_count": 65,
     "metadata": {},
     "output_type": "execute_result"
    }
   ],
   "source": [
    "data.head()"
   ]
  },
  {
   "cell_type": "code",
   "execution_count": 71,
   "id": "0a111945-248c-49a3-bdaa-3d161f691c7b",
   "metadata": {},
   "outputs": [],
   "source": [
    "cat_columns = [col for col in data.select_dtypes('object')]"
   ]
  },
  {
   "cell_type": "code",
   "execution_count": 73,
   "id": "ab7b3b86-31e0-4fe9-8f0c-69a55e5fa4de",
   "metadata": {},
   "outputs": [
    {
     "data": {
      "text/plain": [
       "['Invoice', 'StockCode', 'Description', 'Country']"
      ]
     },
     "execution_count": 73,
     "metadata": {},
     "output_type": "execute_result"
    }
   ],
   "source": [
    "cat_columns"
   ]
  },
  {
   "cell_type": "code",
   "execution_count": 77,
   "id": "86884f6e-f887-4881-a31e-e57f148f61da",
   "metadata": {},
   "outputs": [
    {
     "name": "stdout",
     "output_type": "stream",
     "text": [
      "Invoice\n",
      "Invoice\n",
      "537434     675\n",
      "538071     652\n",
      "537638     601\n",
      "537237     597\n",
      "536876     593\n",
      "          ... \n",
      "502334       1\n",
      "521926       1\n",
      "512044       1\n",
      "529719       1\n",
      "C527357      1\n",
      "Name: count, Length: 25888, dtype: int64\n",
      "---------------------\n",
      "StockCode\n",
      "StockCode\n",
      "85123A    3470\n",
      "22423     2210\n",
      "85099B    2045\n",
      "21212     1900\n",
      "21232     1807\n",
      "          ... \n",
      "21838        1\n",
      "84814A       1\n",
      "85024A       1\n",
      "72084B       1\n",
      "21120        1\n",
      "Name: count, Length: 4276, dtype: int64\n",
      "---------------------\n",
      "Description\n",
      "Description\n",
      "WHITE HANGING HEART T-LIGHT HOLDER    3503\n",
      "REGENCY CAKESTAND 3 TIER              2202\n",
      "STRAWBERRY CERAMIC TRINKET BOX        1807\n",
      "PACK OF 72 RETRO SPOT CAKE CASES      1445\n",
      "ASSORTED COLOUR BIRD ORNAMENT         1443\n",
      "                                      ... \n",
      "VINTAGE METAL CAKE STAND CREAM           1\n",
      "BLUE BAROQUE FLOCK CANDLE HOLDER         1\n",
      "S/4 HEART CRYSTAL FRIDGE MAGNETS         1\n",
      "HEART MEASURING SPOONS SMALL             1\n",
      "dotcom email                             1\n",
      "Name: count, Length: 4681, dtype: int64\n",
      "---------------------\n",
      "Country\n",
      "Country\n",
      "United Kingdom          476097\n",
      "EIRE                      9660\n",
      "Germany                   8120\n",
      "France                    5754\n",
      "Netherlands               2768\n",
      "Spain                     1271\n",
      "Switzerland               1187\n",
      "Portugal                  1098\n",
      "Belgium                   1053\n",
      "Channel Islands            906\n",
      "Sweden                     901\n",
      "Italy                      729\n",
      "Australia                  654\n",
      "Cyprus                     546\n",
      "Austria                    537\n",
      "Greece                     517\n",
      "United Arab Emirates       432\n",
      "Denmark                    428\n",
      "Norway                     369\n",
      "Finland                    354\n",
      "Unspecified                310\n",
      "USA                        244\n",
      "Japan                      224\n",
      "Poland                     194\n",
      "Malta                      172\n",
      "Lithuania                  154\n",
      "Singapore                  117\n",
      "RSA                        111\n",
      "Bahrain                    107\n",
      "Canada                      77\n",
      "Hong Kong                   76\n",
      "Thailand                    76\n",
      "Israel                      74\n",
      "Iceland                     71\n",
      "Korea                       63\n",
      "Brazil                      62\n",
      "West Indies                 54\n",
      "Bermuda                     34\n",
      "Nigeria                     32\n",
      "UK                          22\n",
      "Lebanon                     13\n",
      "Name: count, dtype: int64\n",
      "---------------------\n"
     ]
    }
   ],
   "source": [
    "for col in cat_columns:\n",
    "    print(col)\n",
    "    print(data[col].value_counts())\n",
    "    print('---------------------')"
   ]
  },
  {
   "cell_type": "code",
   "execution_count": 79,
   "id": "ef692a89-5489-4fa0-b3e9-ff1e6aa32165",
   "metadata": {},
   "outputs": [],
   "source": [
    "for col in cat_columns:\n",
    "    data[col] = data[col].str.strip()"
   ]
  },
  {
   "cell_type": "code",
   "execution_count": 81,
   "id": "b1584988-7ed9-43b9-884f-5a574468269c",
   "metadata": {},
   "outputs": [],
   "source": [
    "data['Country'] = data['Country'].str.replace('UK', 'United Kingdom')"
   ]
  },
  {
   "cell_type": "code",
   "execution_count": 83,
   "id": "37809adf-7abf-4ba6-b8b0-f5cd9330ff5a",
   "metadata": {},
   "outputs": [
    {
     "data": {
      "text/plain": [
       "Country\n",
       "United Kingdom          476119\n",
       "EIRE                      9660\n",
       "Germany                   8120\n",
       "France                    5754\n",
       "Netherlands               2768\n",
       "Spain                     1271\n",
       "Switzerland               1187\n",
       "Portugal                  1098\n",
       "Belgium                   1053\n",
       "Channel Islands            906\n",
       "Sweden                     901\n",
       "Italy                      729\n",
       "Australia                  654\n",
       "Cyprus                     546\n",
       "Austria                    537\n",
       "Greece                     517\n",
       "United Arab Emirates       432\n",
       "Denmark                    428\n",
       "Norway                     369\n",
       "Finland                    354\n",
       "Unspecified                310\n",
       "USA                        244\n",
       "Japan                      224\n",
       "Poland                     194\n",
       "Malta                      172\n",
       "Lithuania                  154\n",
       "Singapore                  117\n",
       "RSA                        111\n",
       "Bahrain                    107\n",
       "Canada                      77\n",
       "Hong Kong                   76\n",
       "Thailand                    76\n",
       "Israel                      74\n",
       "Iceland                     71\n",
       "Korea                       63\n",
       "Brazil                      62\n",
       "West Indies                 54\n",
       "Bermuda                     34\n",
       "Nigeria                     32\n",
       "Lebanon                     13\n",
       "Name: count, dtype: int64"
      ]
     },
     "execution_count": 83,
     "metadata": {},
     "output_type": "execute_result"
    }
   ],
   "source": [
    "data['Country'].value_counts()"
   ]
  },
  {
   "cell_type": "code",
   "execution_count": 85,
   "id": "e777a697-5ab4-4a2d-90d5-6ebadf4054e9",
   "metadata": {},
   "outputs": [
    {
     "data": {
      "text/html": [
       "<div>\n",
       "<style scoped>\n",
       "    .dataframe tbody tr th:only-of-type {\n",
       "        vertical-align: middle;\n",
       "    }\n",
       "\n",
       "    .dataframe tbody tr th {\n",
       "        vertical-align: top;\n",
       "    }\n",
       "\n",
       "    .dataframe thead th {\n",
       "        text-align: right;\n",
       "    }\n",
       "</style>\n",
       "<table border=\"1\" class=\"dataframe\">\n",
       "  <thead>\n",
       "    <tr style=\"text-align: right;\">\n",
       "      <th></th>\n",
       "      <th>Invoice</th>\n",
       "      <th>StockCode</th>\n",
       "      <th>Description</th>\n",
       "      <th>Quantity</th>\n",
       "      <th>InvoiceDate</th>\n",
       "      <th>Price</th>\n",
       "      <th>Country</th>\n",
       "    </tr>\n",
       "  </thead>\n",
       "  <tbody>\n",
       "    <tr>\n",
       "      <th>0</th>\n",
       "      <td>489434</td>\n",
       "      <td>85048</td>\n",
       "      <td>15CM CHRISTMAS GLASS BALL 20 LIGHTS</td>\n",
       "      <td>12</td>\n",
       "      <td>2009-12-01 07:45:00</td>\n",
       "      <td>6.95</td>\n",
       "      <td>United Kingdom</td>\n",
       "    </tr>\n",
       "    <tr>\n",
       "      <th>1</th>\n",
       "      <td>489434</td>\n",
       "      <td>79323P</td>\n",
       "      <td>PINK CHERRY LIGHTS</td>\n",
       "      <td>12</td>\n",
       "      <td>2009-12-01 07:45:00</td>\n",
       "      <td>6.75</td>\n",
       "      <td>United Kingdom</td>\n",
       "    </tr>\n",
       "    <tr>\n",
       "      <th>2</th>\n",
       "      <td>489434</td>\n",
       "      <td>79323W</td>\n",
       "      <td>WHITE CHERRY LIGHTS</td>\n",
       "      <td>12</td>\n",
       "      <td>2009-12-01 07:45:00</td>\n",
       "      <td>6.75</td>\n",
       "      <td>United Kingdom</td>\n",
       "    </tr>\n",
       "    <tr>\n",
       "      <th>3</th>\n",
       "      <td>489434</td>\n",
       "      <td>22041</td>\n",
       "      <td>RECORD FRAME 7\" SINGLE SIZE</td>\n",
       "      <td>48</td>\n",
       "      <td>2009-12-01 07:45:00</td>\n",
       "      <td>2.10</td>\n",
       "      <td>United Kingdom</td>\n",
       "    </tr>\n",
       "    <tr>\n",
       "      <th>4</th>\n",
       "      <td>489434</td>\n",
       "      <td>21232</td>\n",
       "      <td>STRAWBERRY CERAMIC TRINKET BOX</td>\n",
       "      <td>24</td>\n",
       "      <td>2009-12-01 07:45:00</td>\n",
       "      <td>1.25</td>\n",
       "      <td>United Kingdom</td>\n",
       "    </tr>\n",
       "  </tbody>\n",
       "</table>\n",
       "</div>"
      ],
      "text/plain": [
       "  Invoice StockCode                          Description  Quantity  \\\n",
       "0  489434     85048  15CM CHRISTMAS GLASS BALL 20 LIGHTS        12   \n",
       "1  489434    79323P                   PINK CHERRY LIGHTS        12   \n",
       "2  489434    79323W                  WHITE CHERRY LIGHTS        12   \n",
       "3  489434     22041          RECORD FRAME 7\" SINGLE SIZE        48   \n",
       "4  489434     21232       STRAWBERRY CERAMIC TRINKET BOX        24   \n",
       "\n",
       "          InvoiceDate  Price         Country  \n",
       "0 2009-12-01 07:45:00   6.95  United Kingdom  \n",
       "1 2009-12-01 07:45:00   6.75  United Kingdom  \n",
       "2 2009-12-01 07:45:00   6.75  United Kingdom  \n",
       "3 2009-12-01 07:45:00   2.10  United Kingdom  \n",
       "4 2009-12-01 07:45:00   1.25  United Kingdom  "
      ]
     },
     "execution_count": 85,
     "metadata": {},
     "output_type": "execute_result"
    }
   ],
   "source": [
    "data.head()"
   ]
  },
  {
   "cell_type": "code",
   "execution_count": 87,
   "id": "87d41fd5-f8f9-46d8-b65c-cf4ef77eb1e4",
   "metadata": {},
   "outputs": [],
   "source": [
    "data.to_csv('Cleaned_Data.csv')"
   ]
  },
  {
   "cell_type": "code",
   "execution_count": null,
   "id": "9f73fc43-8140-4fed-8f3a-86c39e8545e1",
   "metadata": {},
   "outputs": [],
   "source": []
  }
 ],
 "metadata": {
  "kernelspec": {
   "display_name": "Python 3 (ipykernel)",
   "language": "python",
   "name": "python3"
  },
  "language_info": {
   "codemirror_mode": {
    "name": "ipython",
    "version": 3
   },
   "file_extension": ".py",
   "mimetype": "text/x-python",
   "name": "python",
   "nbconvert_exporter": "python",
   "pygments_lexer": "ipython3",
   "version": "3.12.4"
  }
 },
 "nbformat": 4,
 "nbformat_minor": 5
}
